{
 "cells": [
  {
   "cell_type": "code",
   "execution_count": 18,
   "metadata": {},
   "outputs": [
    {
     "ename": "ImportError",
     "evalue": "cannot import name 'test_fgsm_attack' from 'src.models' (/Users/renad/Documents/code/fairness-embeddings/src/models.py)",
     "output_type": "error",
     "traceback": [
      "\u001b[0;31m---------------------------------------------------------------------------\u001b[0m",
      "\u001b[0;31mImportError\u001b[0m                               Traceback (most recent call last)",
      "Cell \u001b[0;32mIn[18], line 24\u001b[0m\n\u001b[1;32m     22\u001b[0m \u001b[38;5;66;03m# owned modules\u001b[39;00m\n\u001b[1;32m     23\u001b[0m \u001b[38;5;28;01mfrom\u001b[39;00m \u001b[38;5;21;01msrc\u001b[39;00m\u001b[38;5;21;01m.\u001b[39;00m\u001b[38;5;21;01mdatasets\u001b[39;00m \u001b[38;5;28;01mimport\u001b[39;00m SCINDataset\n\u001b[0;32m---> 24\u001b[0m \u001b[38;5;28;01mfrom\u001b[39;00m \u001b[38;5;21;01msrc\u001b[39;00m\u001b[38;5;21;01m.\u001b[39;00m\u001b[38;5;21;01mmodels\u001b[39;00m \u001b[38;5;28;01mimport\u001b[39;00m custom_collate_fn, fgsm_attack, denorm, test_fgsm_attack\n\u001b[1;32m     26\u001b[0m device \u001b[38;5;241m=\u001b[39m torch\u001b[38;5;241m.\u001b[39mdevice(\u001b[38;5;124m\"\u001b[39m\u001b[38;5;124mcuda:0\u001b[39m\u001b[38;5;124m\"\u001b[39m \u001b[38;5;28;01mif\u001b[39;00m torch\u001b[38;5;241m.\u001b[39mcuda\u001b[38;5;241m.\u001b[39mis_available() \u001b[38;5;28;01melse\u001b[39;00m \u001b[38;5;124m\"\u001b[39m\u001b[38;5;124mcpu\u001b[39m\u001b[38;5;124m\"\u001b[39m)\n\u001b[1;32m     28\u001b[0m torch\u001b[38;5;241m.\u001b[39mmanual_seed(\u001b[38;5;241m42\u001b[39m)\n",
      "\u001b[0;31mImportError\u001b[0m: cannot import name 'test_fgsm_attack' from 'src.models' (/Users/renad/Documents/code/fairness-embeddings/src/models.py)"
     ]
    }
   ],
   "source": [
    "# External modules\n",
    "import torch\n",
    "import tqdm\n",
    "import time\n",
    "\n",
    "import numpy as np\n",
    "import matplotlib.pyplot as plt\n",
    "\n",
    "from torchvision import transforms\n",
    "from torch.utils.data import DataLoader, random_split, Subset\n",
    "from torchvision.models import resnet18\n",
    "from tqdm.notebook import tqdm as tqdm\n",
    "\n",
    "from sklearn.model_selection import train_test_split\n",
    "\n",
    "import sys\n",
    "import os\n",
    "\n",
    "project_root = os.path.abspath(\"..\")\n",
    "sys.path.append(project_root)\n",
    "\n",
    "# owned modules\n",
    "from src.datasets import SCINDataset\n",
    "from src.models import custom_collate_fn, fgsm_attack, denorm, test_fgsm_attack\n",
    "\n",
    "device = torch.device(\"cuda:0\" if torch.cuda.is_available() else \"cpu\")\n",
    "\n",
    "torch.manual_seed(42)\n",
    "np.random.seed(42)"
   ]
  },
  {
   "cell_type": "markdown",
   "metadata": {},
   "source": [
    "# Loading dataset"
   ]
  },
  {
   "cell_type": "code",
   "execution_count": 2,
   "metadata": {},
   "outputs": [],
   "source": [
    "resnet18_mean = [0.485, 0.456, 0.406]\n",
    "resnet18_std = [0.229, 0.224, 0.225]\n",
    "\n",
    "transform = transforms.Compose([\n",
    "    transforms.Resize((224, 224)),\n",
    "    transforms.ToTensor(),\n",
    "    transforms.Normalize(mean=resnet18_mean,\n",
    "                         std=resnet18_std)          \n",
    "])\n",
    "\n",
    "dataset = SCINDataset(\n",
    "    root_dir=\"../data/external/scin/dataset\",\n",
    "    labels_csv=\"scin_labels.csv\",\n",
    "    cases_csv=\"scin_cases.csv\",\n",
    "    transform=transform\n",
    ")\n",
    "\n",
    "num_classes = len(dataset.label_encoder.classes_)\n",
    "\n",
    "labels = dataset.data['weighted_skin_condition_label'].values\n",
    "indices = list(range(len(dataset)))\n",
    "\n",
    "train_indices, val_indices = train_test_split(indices, test_size=0.2, shuffle=True, random_state=42)\n",
    "\n",
    "train_data = Subset(dataset, train_indices)\n",
    "val_data = Subset(dataset, val_indices)\n",
    "\n",
    "train_loader = DataLoader(dataset, batch_size=32, shuffle=True, collate_fn=custom_collate_fn)\n",
    "val_loader = DataLoader(val_data, batch_size=32, shuffle=True, collate_fn=custom_collate_fn)\n"
   ]
  },
  {
   "cell_type": "code",
   "execution_count": 3,
   "metadata": {},
   "outputs": [
    {
     "name": "stdout",
     "output_type": "stream",
     "text": [
      "Number of training samples: 4025\n",
      "Number of validation samples: 1007\n",
      "5032\n"
     ]
    }
   ],
   "source": [
    "print(\"Number of training samples:\", len(train_data))\n",
    "print(\"Number of validation samples:\", len(val_data))\n",
    "print(len(dataset))"
   ]
  },
  {
   "cell_type": "markdown",
   "metadata": {},
   "source": [
    "# Resnet18"
   ]
  },
  {
   "cell_type": "code",
   "execution_count": 4,
   "metadata": {},
   "outputs": [],
   "source": [
    "# model\n",
    "batch_size = 16\n",
    "lr = 0.1\n",
    "num_epochs = 1\n",
    "\n",
    "# adversarial\n",
    "epsilon = 0.05 # 0, .05, .1, .15, .2, .25, .3"
   ]
  },
  {
   "cell_type": "code",
   "execution_count": 5,
   "metadata": {},
   "outputs": [
    {
     "name": "stderr",
     "output_type": "stream",
     "text": [
      "/Users/renad/Documents/code/fairness-embeddings/venv/lib/python3.11/site-packages/torchvision/models/_utils.py:208: UserWarning: The parameter 'pretrained' is deprecated since 0.13 and may be removed in the future, please use 'weights' instead.\n",
      "  warnings.warn(\n",
      "/Users/renad/Documents/code/fairness-embeddings/venv/lib/python3.11/site-packages/torchvision/models/_utils.py:223: UserWarning: Arguments other than a weight enum or `None` for 'weights' are deprecated since 0.13 and may be removed in the future. The current behavior is equivalent to passing `weights=ResNet18_Weights.IMAGENET1K_V1`. You can also use `weights=ResNet18_Weights.DEFAULT` to get the most up-to-date weights.\n",
      "  warnings.warn(msg)\n"
     ]
    }
   ],
   "source": [
    "model = resnet18(pretrained=True).to(device)\n",
    "\n",
    "model.fc = torch.nn.Linear(512, num_classes)\n",
    "\n",
    "for param in model.parameters():\n",
    "    param.requires_grad = False\n",
    "\n",
    "for param in model.fc.parameters():\n",
    "    param.requires_grad = True\n",
    "\n",
    "loss_fn = torch.nn.CrossEntropyLoss()\n",
    "optimizer = torch.optim.Adam(model.fc.parameters(), lr=lr)"
   ]
  },
  {
   "cell_type": "code",
   "execution_count": 16,
   "metadata": {},
   "outputs": [
    {
     "data": {
      "application/vnd.jupyter.widget-view+json": {
       "model_id": "5c12fc2a46754bb68da47ff408bdb529",
       "version_major": 2,
       "version_minor": 0
      },
      "text/plain": [
       "  0%|          | 0/1 [00:00<?, ?it/s]"
      ]
     },
     "metadata": {},
     "output_type": "display_data"
    },
    {
     "data": {
      "application/vnd.jupyter.widget-view+json": {
       "model_id": "21b0e6b627f84c3b85a29abba2fd3802",
       "version_major": 2,
       "version_minor": 0
      },
      "text/plain": [
       "Training Epoch [1/1]:   0%|          | 0/158 [00:00<?, ?it/s]"
      ]
     },
     "metadata": {},
     "output_type": "display_data"
    },
    {
     "name": "stdout",
     "output_type": "stream",
     "text": [
      "Epoch [1/1], Loss: 40715.4126, Accuracy: 15.42%\n"
     ]
    },
    {
     "data": {
      "application/vnd.jupyter.widget-view+json": {
       "model_id": "3f1fa284093848ebb3b7e5ffb453b274",
       "version_major": 2,
       "version_minor": 0
      },
      "text/plain": [
       "Validation Epoch [1/1]:   0%|          | 0/32 [00:00<?, ?it/s]"
      ]
     },
     "metadata": {},
     "output_type": "display_data"
    },
    {
     "name": "stdout",
     "output_type": "stream",
     "text": [
      "Epoch [1/1], Validation Accuracy: 1.59%\n",
      "Epoch [1/1] completed in 1034.14s (Train: 980.89s, Val: 53.25s)\n"
     ]
    }
   ],
   "source": [
    "train_accuracy = []\n",
    "val_accuracy = []\n",
    "\n",
    "for epoch in tqdm(range(num_epochs)):\n",
    "    \n",
    "    start_time = time.time()\n",
    "    \n",
    "    # TRAINING\n",
    "    running_loss = 0\n",
    "    correct = 0\n",
    "    total = 0\n",
    "    \n",
    "    train_epoch_time = time.time()\n",
    "    model.train()\n",
    "    for batch in tqdm(train_loader, desc=f\"Training Epoch [{epoch+1}/{num_epochs}]\"):\n",
    "        data, target = batch\n",
    "        data, target = data.to(device), target.to(device)\n",
    "\n",
    "        model.zero_grad()\n",
    "        data.requires_grad = True\n",
    "        outputs = model(data)\n",
    "        loss = loss_fn(outputs, target)\n",
    "        loss.backward()\n",
    "        \n",
    "        data_grad = data.grad.data\n",
    "        perturbed_data = fgsm_attack(data, epsilon, data_grad)\n",
    "        \n",
    "        combined_data = torch.cat((data, perturbed_data), dim=0)\n",
    "        combined_target = torch.cat((target, target), dim=0)\n",
    "        \n",
    "        optimizer.zero_grad()\n",
    "        outputs = model(combined_data)\n",
    "        loss = loss_fn(outputs, combined_target)\n",
    "        loss.backward()\n",
    "        optimizer.step()\n",
    "        \n",
    "        predicted = torch.argmax(outputs[:data.size(0)], 1) \n",
    "        total += target.size(0)\n",
    "        correct += (predicted == target).sum().item()\n",
    "        \n",
    "        running_loss += loss.item()\n",
    "\n",
    "        epoch_accuracy = 100 * correct / total\n",
    "        train_accuracy.append(epoch_accuracy)\n",
    "\n",
    "    train_time = time.time() - train_epoch_time\n",
    "    print(f'Epoch [{epoch+1}/{num_epochs}], Loss: {running_loss:.4f}, Accuracy: {epoch_accuracy:.2f}%')\n",
    "\n",
    "\n",
    "    # VALIDATION    \n",
    "    val_correct = 0\n",
    "    val_total = 0\n",
    "    \n",
    "    val_epoch_time = time.time()\n",
    "    model.eval()\n",
    "    with torch.no_grad():\n",
    "        for batch in tqdm(val_loader, desc=f\"Validation Epoch [{epoch+1}/{num_epochs}]\"):\n",
    "            data, target = batch\n",
    "            data, target = data.to(device), target.to(device)\n",
    "            \n",
    "            outputs = model(data)\n",
    "            predicted = torch.argmax(outputs, 1)\n",
    "            val_total += target.size(0)\n",
    "            val_correct += (predicted == target).sum().item()\n",
    "            \n",
    "        val_epoch_accuracy = 100 * val_correct / val_total\n",
    "        val_accuracy.append(val_epoch_accuracy)\n",
    "    \n",
    "    val_time = time.time() - val_epoch_time    \n",
    "    print(f'Epoch [{epoch+1}/{num_epochs}], Validation Accuracy: {val_epoch_accuracy:.2f}%')\n",
    "        \n",
    "    epoch_time = time.time() - start_time\n",
    "    print(f\"Epoch [{epoch+1}/{num_epochs}] completed in {epoch_time:.2f}s (Train: {train_time:.2f}s, Val: {val_time:.2f}s)\")\n",
    "    "
   ]
  },
  {
   "cell_type": "code",
   "execution_count": null,
   "metadata": {},
   "outputs": [],
   "source": [
    "fig = plt.figure(figsize=(14,8))\n",
    "plt.plot(range(1, num_epochs+1,1), train_accuracy, label=\"Training accuracy\")\n",
    "plt.plot(range(1, num_epochs+1,1), val_accuracy, label=\"Validation accuracy\")\n",
    "plt.xticks(range(1, num_epochs + 1))\n",
    "plt.suptitle(\"Model accuracy across epochs\")\n",
    "plt.xlabel(\"Epoch\")\n",
    "plt.ylabel(\"Accuracy (%)\")\n",
    "plt.legend()\n",
    "plt.show()"
   ]
  },
  {
   "cell_type": "code",
   "execution_count": 17,
   "metadata": {},
   "outputs": [
    {
     "ename": "NameError",
     "evalue": "name 'test_fgsm_attack' is not defined",
     "output_type": "error",
     "traceback": [
      "\u001b[0;31m---------------------------------------------------------------------------\u001b[0m",
      "\u001b[0;31mNameError\u001b[0m                                 Traceback (most recent call last)",
      "Cell \u001b[0;32mIn[17], line 1\u001b[0m\n\u001b[0;32m----> 1\u001b[0m acc, ex \u001b[38;5;241m=\u001b[39m \u001b[43mtest_fgsm_attack\u001b[49m(model, device, val_loader, epsilon)\n\u001b[1;32m      2\u001b[0m \u001b[38;5;28mprint\u001b[39m(\u001b[38;5;124mf\u001b[39m\u001b[38;5;124m\"\u001b[39m\u001b[38;5;124mAccuracy on adversarial examples: \u001b[39m\u001b[38;5;132;01m{\u001b[39;00macc\u001b[38;5;132;01m:\u001b[39;00m\u001b[38;5;124m.2f\u001b[39m\u001b[38;5;132;01m}\u001b[39;00m\u001b[38;5;124m%\u001b[39m\u001b[38;5;124m\"\u001b[39m)\n\u001b[1;32m      3\u001b[0m \u001b[38;5;28mprint\u001b[39m(\u001b[38;5;124mf\u001b[39m\u001b[38;5;124m\"\u001b[39m\u001b[38;5;124mNumber of examples: \u001b[39m\u001b[38;5;132;01m{\u001b[39;00mex\u001b[38;5;132;01m}\u001b[39;00m\u001b[38;5;124m\"\u001b[39m)\n",
      "\u001b[0;31mNameError\u001b[0m: name 'test_fgsm_attack' is not defined"
     ]
    }
   ],
   "source": [
    "acc, ex = test_fgsm_attack(model, device, val_loader, epsilon)\n",
    "print(f\"Accuracy on adversarial examples: {acc:.2f}%\")\n",
    "print(f\"Number of examples: {ex}\")"
   ]
  }
 ],
 "metadata": {
  "kernelspec": {
   "display_name": "venv",
   "language": "python",
   "name": "python3"
  },
  "language_info": {
   "codemirror_mode": {
    "name": "ipython",
    "version": 3
   },
   "file_extension": ".py",
   "mimetype": "text/x-python",
   "name": "python",
   "nbconvert_exporter": "python",
   "pygments_lexer": "ipython3",
   "version": "3.11.2"
  }
 },
 "nbformat": 4,
 "nbformat_minor": 2
}
